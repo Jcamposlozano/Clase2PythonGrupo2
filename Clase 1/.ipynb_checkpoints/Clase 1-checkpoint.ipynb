{
 "cells": [
  {
   "cell_type": "code",
   "execution_count": 2,
   "metadata": {},
   "outputs": [
    {
     "name": "stdout",
     "output_type": "stream",
     "text": [
      "Hola Mundo\n"
     ]
    }
   ],
   "source": [
    "print(\"Hola Mundo\")"
   ]
  },
  {
   "attachments": {},
   "cell_type": "markdown",
   "metadata": {},
   "source": [
    "### Ejercicio 1\n",
    "\n",
    "El if es una instrucción lógica que resuelve un problema de tipo booleano, forma parte de lo que se denomina instrucciones condicionales.\n"
   ]
  },
  {
   "cell_type": "code",
   "execution_count": 6,
   "metadata": {},
   "outputs": [
    {
     "name": "stdout",
     "output_type": "stream",
     "text": [
      "Puede tomar cerveza\n"
     ]
    }
   ],
   "source": [
    "# Ejercicio 1\n",
    "# Primera Version\n",
    "\n",
    "edad = 18\n",
    "\n",
    "if edad >= 18:\n",
    "    print(\"Puede tomar cerveza\")\n",
    "else:\n",
    "    print(\"NO Puede tomar cerveza\")"
   ]
  },
  {
   "cell_type": "code",
   "execution_count": 8,
   "metadata": {},
   "outputs": [
    {
     "name": "stdout",
     "output_type": "stream",
     "text": [
      "Ingrese la edad: 18\n",
      "Puede tomar cerveza\n"
     ]
    }
   ],
   "source": [
    "# Primera Version\n",
    "\n",
    "edad = int(input(\"Ingrese la edad: \"))\n",
    "\n",
    "if edad >= 18:\n",
    "    print(\"Puede tomar cerveza\")\n",
    "else:\n",
    "    print(\"NO Puede tomar cerveza\")"
   ]
  },
  {
   "cell_type": "code",
   "execution_count": 9,
   "metadata": {},
   "outputs": [],
   "source": [
    "# Tercera Version\n",
    "\n",
    "def ejercicio1(edad):\n",
    "    if edad >= 18:\n",
    "        print(\"Puede tomar cerveza\")\n",
    "    else:\n",
    "        print(\"NO Puede tomar cerveza\") "
   ]
  },
  {
   "cell_type": "code",
   "execution_count": 11,
   "metadata": {},
   "outputs": [
    {
     "name": "stdout",
     "output_type": "stream",
     "text": [
      "Ingrese la edad: 21\n",
      "Puede tomar cerveza\n"
     ]
    }
   ],
   "source": [
    "ejercicio1(int(input(\"Ingrese la edad: \")))"
   ]
  },
  {
   "cell_type": "markdown",
   "metadata": {},
   "source": [
    "### Ejercici 2"
   ]
  },
  {
   "cell_type": "code",
   "execution_count": 16,
   "metadata": {},
   "outputs": [
    {
     "name": "stdout",
     "output_type": "stream",
     "text": [
      "compro  aguila\n"
     ]
    }
   ],
   "source": [
    "marca = 'aguila'\n",
    "\n",
    "if marca == 'budweiser':\n",
    "    print('compro',marca) # forma recomendada\n",
    "    #print('compro ' + marca)\n",
    "elif marca == 'aguila':\n",
    "    print('compro',marca)\n",
    "else:\n",
    "    print('No compro nada')"
   ]
  },
  {
   "cell_type": "code",
   "execution_count": 15,
   "metadata": {},
   "outputs": [
    {
     "name": "stdout",
     "output_type": "stream",
     "text": [
      "TRM del Dia =3500\n"
     ]
    }
   ],
   "source": [
    "trm = 3500\n",
    "\n",
    "#print('TRM del Dia =',trm)\n",
    "print('TRM del Dia =' + str(trm))\n"
   ]
  },
  {
   "cell_type": "code",
   "execution_count": null,
   "metadata": {},
   "outputs": [],
   "source": []
  }
 ],
 "metadata": {
  "kernelspec": {
   "display_name": "Python 3",
   "language": "python",
   "name": "python3"
  },
  "language_info": {
   "codemirror_mode": {
    "name": "ipython",
    "version": 3
   },
   "file_extension": ".py",
   "mimetype": "text/x-python",
   "name": "python",
   "nbconvert_exporter": "python",
   "pygments_lexer": "ipython3",
   "version": "3.7.4"
  },
  "varInspector": {
   "cols": {
    "lenName": 16,
    "lenType": 16,
    "lenVar": 40
   },
   "kernels_config": {
    "python": {
     "delete_cmd_postfix": "",
     "delete_cmd_prefix": "del ",
     "library": "var_list.py",
     "varRefreshCmd": "print(var_dic_list())"
    },
    "r": {
     "delete_cmd_postfix": ") ",
     "delete_cmd_prefix": "rm(",
     "library": "var_list.r",
     "varRefreshCmd": "cat(var_dic_list()) "
    }
   },
   "types_to_exclude": [
    "module",
    "function",
    "builtin_function_or_method",
    "instance",
    "_Feature"
   ],
   "window_display": false
  }
 },
 "nbformat": 4,
 "nbformat_minor": 2
}
